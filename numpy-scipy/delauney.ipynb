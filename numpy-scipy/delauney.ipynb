{
 "cells": [
  {
   "cell_type": "code",
   "execution_count": 1,
   "metadata": {},
   "outputs": [],
   "source": [
    "import matplotlib.pyplot as plt\n",
    "import numpy as np\n",
    "from scipy.spatial import Delaunay\n",
    "import matplotlib.cm as cm"
   ]
  },
  {
   "cell_type": "markdown",
   "metadata": {},
   "source": [
    "### at first create some random points in 2D"
   ]
  },
  {
   "cell_type": "code",
   "execution_count": 147,
   "metadata": {},
   "outputs": [],
   "source": [
    "number_points = 3\n",
    "dimensions = 2\n",
    "\n",
    "points = np.random.rand(number_points, dimensions)\n",
    "points = np.array([[0.5,1],[1, 0.5], [0.5,0.5]])"
   ]
  },
  {
   "cell_type": "code",
   "execution_count": 148,
   "metadata": {},
   "outputs": [],
   "source": [
    "# build the Delaunay triangles according to the input points\n",
    "tri = Delaunay(points)"
   ]
  },
  {
   "cell_type": "code",
   "execution_count": 378,
   "metadata": {},
   "outputs": [
    {
     "data": {
      "text/plain": [
       "array([[0.28584713, 0.29322898],\n",
       "       [0.5074915 , 0.61132004],\n",
       "       [0.12245863, 0.64782153],\n",
       "       [0.95650447, 0.67244934]])"
      ]
     },
     "execution_count": 378,
     "metadata": {},
     "output_type": "execute_result"
    }
   ],
   "source": [
    "# create random points inside the Delaunay grid\n",
    "test_points = np.random.rand(4,2)\n",
    "#test_points = np.array([[0.6, 0.8], [0.8, 0.8], [0.7, 0.7]])\n",
    "test_points"
   ]
  },
  {
   "cell_type": "code",
   "execution_count": 222,
   "metadata": {},
   "outputs": [],
   "source": [
    "# index of the triangle in which the test_points falls\n",
    "s = tri.find_simplex(test_points)"
   ]
  },
  {
   "cell_type": "code",
   "execution_count": 223,
   "metadata": {},
   "outputs": [],
   "source": [
    "# number of triangles\n",
    "triangles, points_in_tri_counts = np.unique(s, return_counts=True)"
   ]
  },
  {
   "cell_type": "code",
   "execution_count": 224,
   "metadata": {},
   "outputs": [
    {
     "data": {
      "text/plain": [
       "array([[2, 1, 0],\n",
       "       [2, 1, 0],\n",
       "       [2, 1, 0],\n",
       "       [2, 1, 0]], dtype=int32)"
      ]
     },
     "execution_count": 224,
     "metadata": {},
     "output_type": "execute_result"
    }
   ],
   "source": [
    "# get the indexes of the Delaunay points for all the test_points\n",
    "# each test_point is connected to the points describing the triangle in which this test_point is\n",
    "\n",
    "v = tri.simplices[s]\n",
    "v"
   ]
  },
  {
   "cell_type": "markdown",
   "metadata": {},
   "source": [
    "### NOTE \n",
    "\n",
    "If a point is outside the trianges (#triangle = -1), then the \"indices of the points forming the triangle inside which we find this point\" are fake (they are the one for the triangle #triangle-1). The #-1 is the last item in the list of triangles.\n",
    "\n",
    "the unique lists of points are equal to the number of triangles and there's no value for the \"external\" space"
   ]
  },
  {
   "cell_type": "code",
   "execution_count": 225,
   "metadata": {
    "scrolled": false
   },
   "outputs": [
    {
     "name": "stdout",
     "output_type": "stream",
     "text": [
      "indexes:\n",
      " [[2 1 0]]\n",
      "points per vertices triplet (non ordered);\n",
      " [4]\n",
      "points per triangle (right and sorted for #triangle);\n",
      " [3 1]\n"
     ]
    }
   ],
   "source": [
    "indexes, counts = np.unique(v, axis=0, return_counts=True)\n",
    "print(\"indexes:\\n\", indexes)\n",
    "print(\"points per vertices triplet (non ordered);\\n\", counts)\n",
    "print(\"points per triangle (right and sorted for #triangle);\\n\", points_in_tri_counts)"
   ]
  },
  {
   "cell_type": "markdown",
   "metadata": {},
   "source": [
    "The count of points falling in triangle #0 is the sum of #-1 and #triangle-1 (which is the last item in the list of triangles)"
   ]
  },
  {
   "cell_type": "code",
   "execution_count": 262,
   "metadata": {
    "scrolled": false
   },
   "outputs": [
    {
     "name": "stdout",
     "output_type": "stream",
     "text": [
      "Coords points: [0.72508601 0.57945148]\n",
      "Triangle: #0,\n",
      "indexes of points of the simplices: [2 1 0]\n"
     ]
    },
    {
     "data": {
      "image/png": "[encoded data removed]",
      "text/plain": [
       "<Figure size 1080x720 with 2 Axes>"
      ]
     },
     "metadata": {},
     "output_type": "display_data"
    }
   ],
   "source": [
    "fig = plt.figure(figsize=(15,10))\n",
    "\n",
    "# plot points and connect them with lines\n",
    "plt.triplot(points[:,0], points[:,1], tri.simplices.copy())\n",
    "plt.plot(points[:,0], points[:,1], 'o')\n",
    "\n",
    "# label the points of the Delaunay grid\n",
    "for j, p in enumerate(points):\n",
    "    plt.text(p[0]-0.01, p[1]+0.01, j, ha='right')\n",
    "\n",
    "# plot test points according to their \n",
    "cmap = cm.get_cmap('rainbow', len(triangles))\n",
    "this = plt.scatter(test_points[:,0], test_points[:,1], c = s, s = 40, cmap=cmap)\n",
    "plt.colorbar(ticks=np.arange(np.min(triangles),np.max(triangles)+1))\n",
    "\n",
    "# choose one test point to get its properties\n",
    "choose_point = 2\n",
    "\n",
    "# get the indices of the points forming the simplices in the triangulation \n",
    "simplices = tri.simplices[s[choose_point]]\n",
    "print(\"Coords points: {0}\\nTriangle: #{1},\\nindexes of points of the simplices: {2}\"\n",
    "      .format(\n",
    "          test_points[choose_point], \n",
    "          s[choose_point], \n",
    "          simplices\n",
    "      )\n",
    "     )\n",
    "\n",
    "plt.scatter(test_points[choose_point][0], \n",
    "            test_points[choose_point][1], \n",
    "            marker = 'x', \n",
    "            s = 300, \n",
    "            label = \"choosen point\", \n",
    "            c = \"red\")\n",
    "\n",
    "plt.scatter(points[simplices][:,0], \n",
    "            points[simplices][:,1], \n",
    "            marker = 'X', \n",
    "            s = 200, \n",
    "            c = 'red', \n",
    "            label = 'index of points forming the simplices')\n",
    "\n",
    "\n",
    "plt.legend()\n",
    "plt.show()"
   ]
  },
  {
   "cell_type": "code",
   "execution_count": 228,
   "metadata": {},
   "outputs": [
    {
     "data": {
      "text/plain": [
       "(1, 3, 2)"
      ]
     },
     "execution_count": 228,
     "metadata": {},
     "output_type": "execute_result"
    }
   ],
   "source": [
    "# Affine transform from x to the barycentric coordinates c.\n",
    "# T c = x - r\n",
    "# ==> c = T^-1 (x - r)\n",
    "# Compute barycentric affine coordinate transformations for given simplices.\n",
    "# output ndarray of double, shape (nsimplex, ndim+1, ndim)\n",
    "\n",
    "tri.transform.shape"
   ]
  },
  {
   "cell_type": "markdown",
   "metadata": {},
   "source": [
    "If the simplex number for all the test_points is passed, the first dimension will not be the number of simplices but the number of test_points, each of which is associated to a simplex."
   ]
  },
  {
   "cell_type": "code",
   "execution_count": 229,
   "metadata": {},
   "outputs": [
    {
     "data": {
      "text/plain": [
       "(4, 3, 2)"
      ]
     },
     "execution_count": 229,
     "metadata": {},
     "output_type": "execute_result"
    }
   ],
   "source": [
    "m = tri.transform[s]\n",
    "m.shape"
   ]
  },
  {
   "cell_type": "markdown",
   "metadata": {},
   "source": [
    "- every points has the transformation matrix related to the simplex in which it is\n",
    "- the one for #-1 is included in the triangle #0 (it's the same)\n",
    "\n",
    "- m has one entry per points but just #triangles different ones\n"
   ]
  },
  {
   "cell_type": "code",
   "execution_count": 231,
   "metadata": {},
   "outputs": [
    {
     "data": {
      "text/plain": [
       "array([[[-2. , -2. ],\n",
       "        [ 2. , -0. ],\n",
       "        [ 0.5,  1. ]]])"
      ]
     },
     "execution_count": 231,
     "metadata": {},
     "output_type": "execute_result"
    }
   ],
   "source": [
    "np.unique(tri.transform[s], axis = 0)"
   ]
  },
  {
   "cell_type": "code",
   "execution_count": 234,
   "metadata": {},
   "outputs": [
    {
     "data": {
      "text/plain": [
       "array([[-2. , -2. ],\n",
       "       [ 2. , -0. ],\n",
       "       [ 0.5,  1. ]])"
      ]
     },
     "execution_count": 234,
     "metadata": {},
     "output_type": "execute_result"
    }
   ],
   "source": [
    "m[0]"
   ]
  },
  {
   "cell_type": "code",
   "execution_count": 235,
   "metadata": {},
   "outputs": [
    {
     "data": {
      "text/plain": [
       "array([[-2., -2.],\n",
       "       [ 2., -0.]])"
      ]
     },
     "execution_count": 235,
     "metadata": {},
     "output_type": "execute_result"
    }
   ],
   "source": [
    "# inverse of the matrix ``T``\n",
    "i = 0     # point selected\n",
    "\n",
    "ndim = m.shape[2]\n",
    "m[i, :ndim, :ndim]"
   ]
  },
  {
   "cell_type": "code",
   "execution_count": 236,
   "metadata": {},
   "outputs": [
    {
     "data": {
      "text/plain": [
       "array([0.5, 1. ])"
      ]
     },
     "execution_count": 236,
     "metadata": {},
     "output_type": "execute_result"
    }
   ],
   "source": [
    "m[i, ndim, :]"
   ]
  },
  {
   "cell_type": "markdown",
   "metadata": {},
   "source": [
    "## calculate baricentric coordinates\n",
    "http://mathworld.wolfram.com/BarycentricCoordinates.html"
   ]
  },
  {
   "cell_type": "markdown",
   "metadata": {},
   "source": [
    "$\\rm{coords} = {\\matrix{T}}^{-1} (\\rm{test\\_point} - \\rm{vertices}) $\n",
    "\n",
    "#### Where:\n",
    "\n",
    "${\\matrix{T}}^{-1} = \\rm{tri.transform[\\#triangle, :ndim, :ndim]}$\n",
    "\n",
    "$\\rm{vertices} = \\rm{m[\\#triangle, self.\\_num\\_dimensions, :]}$"
   ]
  },
  {
   "cell_type": "code",
   "execution_count": 312,
   "metadata": {},
   "outputs": [
    {
     "name": "stdout",
     "output_type": "stream",
     "text": [
      "[-1 -1  0 -1]\n"
     ]
    }
   ],
   "source": [
    "s = tri.find_simplex(test_points)\n",
    "print(s)"
   ]
  },
  {
   "cell_type": "code",
   "execution_count": 353,
   "metadata": {},
   "outputs": [
    {
     "name": "stdout",
     "output_type": "stream",
     "text": [
      "(2, 2)\n",
      "[[-2. -2.]\n",
      " [ 2. -0.]]\n",
      "---------\n",
      "(2,)\n",
      "[0.5 1. ]\n"
     ]
    }
   ],
   "source": [
    "# compute coordinates of point 0 in triangle 0\n",
    "matrix_vals =  tri.transform[0, :2, :2]    # the 0 is for the triangle\n",
    "vertices = tri.transform[0, 2, :]\n",
    "\n",
    "print(matrix_vals.shape)\n",
    "print(matrix_vals)\n",
    "print(\"---------\")\n",
    "print(vertices.shape)\n",
    "print(vertices)"
   ]
  },
  {
   "cell_type": "code",
   "execution_count": 356,
   "metadata": {},
   "outputs": [
    {
     "data": {
      "text/plain": [
       "(4, 2)"
      ]
     },
     "execution_count": 356,
     "metadata": {},
     "output_type": "execute_result"
    }
   ],
   "source": [
    "# These are 4 points, each with x and y\n",
    "test_points.shape"
   ]
  },
  {
   "cell_type": "code",
   "execution_count": 362,
   "metadata": {},
   "outputs": [
    {
     "data": {
      "text/plain": [
       "array([[ 1.25934478,  0.17471243,  0.39092501,  2.22434754],\n",
       "       [-0.90452029, -0.1643676 ,  0.45017203, -0.70850692]])"
      ]
     },
     "execution_count": 362,
     "metadata": {},
     "output_type": "execute_result"
    }
   ],
   "source": [
    "# we have to transpose them in order to multiply\n",
    "coords = matrix_vals.dot((test_points - vertices).T)\n",
    "coords"
   ]
  },
  {
   "cell_type": "code",
   "execution_count": 375,
   "metadata": {},
   "outputs": [
    {
     "data": {
      "text/plain": [
       "array([[ 1.25934478, -0.90452029,  0.64517551],\n",
       "       [ 0.17471243, -0.1643676 ,  0.98965517],\n",
       "       [ 0.39092501,  0.45017203,  0.15890296],\n",
       "       [ 2.22434754, -0.70850692, -0.51584062]])"
      ]
     },
     "execution_count": 375,
     "metadata": {},
     "output_type": "execute_result"
    }
   ],
   "source": [
    "# THEN to compute the weights we must transpose the array:\n",
    "# in this way each row is related to one point for which the sum of\n",
    "# the weights must be equal to 1\n",
    "weights = np.c_[coords.T, 1 - coords.T.sum(axis=1)]\n",
    "weights"
   ]
  },
  {
   "cell_type": "code",
   "execution_count": 379,
   "metadata": {},
   "outputs": [
    {
     "data": {
      "text/plain": [
       "array([[0.28584713, 0.29322898],\n",
       "       [0.5074915 , 0.61132004],\n",
       "       [0.12245863, 0.64782153],\n",
       "       [0.95650447, 0.67244934]])"
      ]
     },
     "execution_count": 379,
     "metadata": {},
     "output_type": "execute_result"
    }
   ],
   "source": [
    "test_points"
   ]
  },
  {
   "cell_type": "markdown",
   "metadata": {},
   "source": [
    "## CHECK!!!"
   ]
  },
  {
   "cell_type": "markdown",
   "metadata": {},
   "source": [
    "$T \\cdot coords$ "
   ]
  },
  {
   "cell_type": "code",
   "execution_count": 359,
   "metadata": {},
   "outputs": [
    {
     "data": {
      "text/plain": [
       "array([[-0.45226015, -0.0821838 ,  0.22508601, -0.35425346],\n",
       "       [-0.17741224, -0.00517241, -0.42054852, -0.75792031]])"
      ]
     },
     "execution_count": 359,
     "metadata": {},
     "output_type": "execute_result"
    }
   ],
   "source": [
    "np.linalg.inv(matrix_vals).dot(coords)\n",
    "#(coords.T).dot(np.linalg.inv(matrix_vals)"
   ]
  },
  {
   "cell_type": "markdown",
   "metadata": {},
   "source": [
    "(test_points - vertices).T"
   ]
  },
  {
   "cell_type": "code",
   "execution_count": 361,
   "metadata": {},
   "outputs": [
    {
     "data": {
      "text/plain": [
       "array([[-0.45226015, -0.0821838 ,  0.22508601, -0.35425346],\n",
       "       [-0.17741224, -0.00517241, -0.42054852, -0.75792031]])"
      ]
     },
     "execution_count": 361,
     "metadata": {},
     "output_type": "execute_result"
    }
   ],
   "source": [
    "(test_points - vertices).T"
   ]
  },
  {
   "cell_type": "markdown",
   "metadata": {},
   "source": [
    "### NOTE:\n",
    "All these \"strange\" dimensione, transpose, etc...comes from the way in which the data are stored the numpy arrays. Using pen&paper one can check that all these things are correct"
   ]
  }
 ],
 "metadata": {
  "kernelspec": {
   "display_name": "Python 3",
   "language": "python",
   "name": "python3"
  },
  "language_info": {
   "codemirror_mode": {
    "name": "ipython",
    "version": 3
   },
   "file_extension": ".py",
   "mimetype": "text/x-python",
   "name": "python",
   "nbconvert_exporter": "python",
   "pygments_lexer": "ipython3",
   "version": "3.6.8"
  }
 },
 "nbformat": 4,
 "nbformat_minor": 2
}
